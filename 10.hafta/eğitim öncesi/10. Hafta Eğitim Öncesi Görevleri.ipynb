{
 "cells": [
  {
   "attachments": {},
   "cell_type": "markdown",
   "metadata": {},
   "source": [
    "# Problem 1"
   ]
  },
  {
   "cell_type": "code",
   "execution_count": 9,
   "metadata": {},
   "outputs": [
    {
     "name": "stdout",
     "output_type": "stream",
     "text": [
      "(5,)\n",
      "[[9 2 6 6 5]]\n"
     ]
    }
   ],
   "source": [
    "# 1 - numpy kütüphanesini import edin\n",
    "import numpy as np\n",
    "\n",
    "# 2 - 0 ile 10 arasında 5 sayıdan oluşan matris üretin\n",
    "matris= np.random.randint(0,11,size=(5,))\n",
    "\n",
    "# 3 - matris'in boyutunu öğrenin\n",
    "print(matris.shape)\n",
    "# 4 - matris'i yeniden boyutlandırın\n",
    "yeniBoyut= matris.reshape((1,5))\n",
    "# 5 - matris'in boyut sayısını öğrenin\n",
    "print(yeniBoyut)"
   ]
  },
  {
   "attachments": {},
   "cell_type": "markdown",
   "metadata": {},
   "source": [
    "# Problem 2"
   ]
  },
  {
   "cell_type": "code",
   "execution_count": 29,
   "metadata": {},
   "outputs": [
    {
     "name": "stdout",
     "output_type": "stream",
     "text": [
      "[[1]\n",
      " [3]\n",
      " [5]\n",
      " [7]\n",
      " [9]]\n",
      "[[1]]\n",
      "[[3]]\n",
      "[[5]]\n",
      "[[7]]\n",
      "[[9]]\n",
      "[[1]\n",
      " [3]\n",
      " [5]\n",
      " [7]\n",
      " [9]]\n"
     ]
    }
   ],
   "source": [
    "# 1 - 0 ile 10 arasında bulunan tek sayılardan oluşan matris üretin\n",
    "import numpy as np \n",
    "matris= np.arange(1,11,2).reshape((5,1))\n",
    "print(matris)\n",
    "# 2 - Oluşturduğunuz matrisi parçalayın\n",
    "parcalanmıs = np.split(matris,5)\n",
    "for parcala in parcalanmıs:\n",
    "    print(parcala)\n",
    "\n",
    "# 3 - Parçalanmış matrisleri birleştirin\n",
    "parcalanmıs=np.concatenate(parcalanmıs,axis=0)\n",
    "print(parcalanmıs)\n"
   ]
  },
  {
   "attachments": {},
   "cell_type": "markdown",
   "metadata": {},
   "source": [
    "# Problem 3"
   ]
  },
  {
   "cell_type": "code",
   "execution_count": 37,
   "metadata": {},
   "outputs": [
    {
     "name": "stdout",
     "output_type": "stream",
     "text": [
      "[[95 93]\n",
      " [17 97]\n",
      " [99 47]\n",
      " [87 85]\n",
      " [23 37]]\n",
      "[[95 93]\n",
      " [17 97]\n",
      " [99 47]\n",
      " [87 85]\n",
      " [23 37]]\n",
      "Boyut: (5, 1)\n",
      "Eleman sayısı: 5\n",
      "Veri tipi: int32\n",
      "Minimum değer: 1\n",
      "Maksimum değer: 9\n",
      "Toplam: 25\n",
      "Ortalama: 5.0\n"
     ]
    }
   ],
   "source": [
    "# 1 - 5 ile 100 arasında ikişer ikişer atlayarak rastgele 10 sayıdan oluşan matris üretin\n",
    "import numpy as np \n",
    "sayilar= np.random.choice(np.arange(1,101,2), size=10, replace= False).reshape((5,2))\n",
    "print(sayilar)\n",
    "\n",
    "# 2 - matris'in özelliklerini inceleyin\n",
    "\n",
    "sayilar = np.array(print(sayilar))\n",
    "print(\"Boyut:\", matris.shape)\n",
    "print(\"Eleman sayısı:\", matris.size)\n",
    "print(\"Veri tipi:\", matris.dtype)\n",
    "print(\"Minimum değer:\", matris.min())\n",
    "print(\"Maksimum değer:\", matris.max())\n",
    "print(\"Toplam:\", matris.sum())\n",
    "print(\"Ortalama:\", matris.mean())\n",
    "\n",
    "\n"
   ]
  }
 ],
 "metadata": {
  "kernelspec": {
   "display_name": "Python 3",
   "language": "python",
   "name": "python3"
  },
  "language_info": {
   "codemirror_mode": {
    "name": "ipython",
    "version": 3
   },
   "file_extension": ".py",
   "mimetype": "text/x-python",
   "name": "python",
   "nbconvert_exporter": "python",
   "pygments_lexer": "ipython3",
   "version": "3.11.0"
  },
  "orig_nbformat": 4,
  "vscode": {
   "interpreter": {
    "hash": "5026d2d6e7aaaaba093def813beadff083d8733e4a511af01735cbabd156995d"
   }
  }
 },
 "nbformat": 4,
 "nbformat_minor": 2
}
