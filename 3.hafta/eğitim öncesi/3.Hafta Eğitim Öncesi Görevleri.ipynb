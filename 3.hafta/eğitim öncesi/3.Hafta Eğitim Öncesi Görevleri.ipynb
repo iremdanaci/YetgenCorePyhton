{
  "cells": [
    {
      "cell_type": "markdown",
      "metadata": {
        "id": "tsD4YVAe_Te2"
      },
      "source": [
        "# Problem 1\n",
        "Bir sayının 7'ye bölünebilir olup olmadığını kontrol etmek \n",
        "için bir program yazın.\n",
        "\n",
        "İpucu: Mod operatörünü (%) kullanabilirsiniz."
      ]
    },
    {
      "cell_type": "code",
      "execution_count": 4,
      "metadata": {
        "id": "NGjvNwKx_Te7"
      },
      "outputs": [
        {
          "name": "stdout",
          "output_type": "stream",
          "text": [
            "15 sayisi 7 ye tam bölünmez\n"
          ]
        }
      ],
      "source": [
        "# 1.Problemin Çözümünü Buraya Yazınız\n",
        "x=int(input(\"bir sayi giriniz: \"))\n",
        "if x % 7==0:\n",
        "    print(f\"{x} sayisi 7 ye tam bölünür.\")\n",
        "else:\n",
        "    print(f\"{x} sayisi 7 ye tam bölünmez\")\n"
      ]
    },
    {
      "cell_type": "markdown",
      "metadata": {
        "id": "Kg3qiBAI_Te8"
      },
      "source": [
        "# Problem 2\n",
        "Kullanıcıdan vize ve final notu isteyin. Girilen vize notunun %40’ı ve \n",
        "girilen finalnotunun ise %60’ı alınarak yıl sonu not ortalaması hesaplanacaktır. \n",
        "\n",
        "Bu not ortalaması eğer 85 ve üzeri ise AA, \n",
        "\n",
        "75 ve 85 arasında ise BA, \n",
        "\n",
        "70 ve 75 arasında ise BB, \n",
        "\n",
        "65 ve 70 arasında ise CB,\n",
        "\n",
        "60 ve 65 arasında ise CC,\n",
        "\n",
        "55 ve 60 arasında ise DC,\n",
        "\n",
        "50 ve 55 arasında ise DD olarak hesaplanacaktır. \n",
        "\n",
        "Bu öğrencinin yıl sonu toplam notu 50’nin altında ise FF ile dersten kalacaktır. \n",
        "\n",
        "Ayrıca öğrencinin final notu 50’nin altında ise direkt FF ile kalacaktır."
      ]
    },
    {
      "cell_type": "code",
      "execution_count": 5,
      "metadata": {
        "id": "MXTtCxI1_Te8"
      },
      "outputs": [
        {
          "name": "stdout",
          "output_type": "stream",
          "text": [
            "65.6 notunuz ve harf notunuz CB'dir\n"
          ]
        }
      ],
      "source": [
        "# 2.Problemin Çözümünü Buraya Yazınız\n",
        "vize=float(input(\"vize notunuzu giriniz\"))\n",
        "final=float(input(\"final notunuzu giriniz\"))\n",
        "yilSonuNotOrtalamasi= float((vize*(40/100)) + (final*(60/100)))\n",
        "if final <50:\n",
        "    print(\"final notunuz 50 nin altinda oldugu için dersten FF ile kaldiniz\")\n",
        "\n",
        "elif yilSonuNotOrtalamasi >=85 : \n",
        "    print(f\"{yilSonuNotOrtalamasi} notunuz ve harf notunuz AA dir\")\n",
        "elif yilSonuNotOrtalamasi >=75 <=85 :\n",
        "    print(f\"{yilSonuNotOrtalamasi} notunuz ve harf notunuz BA'dir\")\n",
        "elif yilSonuNotOrtalamasi >=70 <75 :\n",
        "    print(f\"{yilSonuNotOrtalamasi} notunuz ve harf notunuz BB'dir\")\n",
        "elif yilSonuNotOrtalamasi >=65 <70 :\n",
        "    print(f\"{yilSonuNotOrtalamasi} notunuz ve harf notunuz CB'dir\")\n",
        "elif yilSonuNotOrtalamasi >=60 <65 :\n",
        "    print(f\"{yilSonuNotOrtalamasi} notunuz ve harf notunuz CC'dir\")\n",
        "elif yilSonuNotOrtalamasi >=55 <60 :\n",
        "    print(f\"{yilSonuNotOrtalamasi} notunuz ve harf notunuz DC'dir\")\n",
        "elif yilSonuNotOrtalamasi >=50 <55 :\n",
        "    print(f\"{yilSonuNotOrtalamasi} notunuz ve harf notunuz CC'dir\")\n",
        "else:\n",
        "    print(f\"{yilSonuNotOrtalamasi} yil sonu notunuz 50 nin altinda bu dersten FF ile kaldiniz\")\n",
        "\n",
        "\n",
        "\n",
        "\n"
      ]
    },
    {
      "cell_type": "markdown",
      "metadata": {
        "id": "tAoRYCTC_Te8"
      },
      "source": [
        "# Problem 3\n",
        "İki YetGenli Zirve'de karşılaşıyorlar. Birbirlerini tanımak için sorular soruyorlar. Birbirlerine yaşlarını soruyorlar. Akıllarına bir Python programı yazıp, yaşlarını ve isimlerini giriyorlar. Büyük olanın yaşını ekrana yazdıran programı yazıyorlar. Sende bu iki YetGenli'ye destek olmak ister misin?\n",
        "\n",
        "```\n",
        "Birinci YetGenlinin ismi: Ahmet\n",
        "Birinci YetGenlinin yaşı : 20\n",
        "İkinci YetGenlinin ismi: Mehmet\n",
        "İkinci YetGenlinin yaşı : 25\n",
        "Mehmet'in yaşı daha büyük ve yaşı 25'tir.\n",
        "```"
      ]
    },
    {
      "cell_type": "code",
      "execution_count": 27,
      "metadata": {
        "id": "bPjE8W0i_Te8"
      },
      "outputs": [
        {
          "name": "stdout",
          "output_type": "stream",
          "text": [
            "b daha büyük ve yasi 25'tir.\n"
          ]
        }
      ],
      "source": [
        "# 3.Problemin Çözümünü Buraya Yazınız\n",
        "kisi1= input(\"isminizi giriniz\")\n",
        "kisi2= input(\"isminizi giriniz\")\n",
        "kisi1yas= int(input(\"yasinizi giriniz\"))\n",
        "kisi2yas= int(input(\"yasinizi giriniz\"))\n",
        "if kisi1yas > kisi2yas: \n",
        "    print(f\"{kisi1} daha büyük ve yasi {kisi1yas}'tir.\")\n",
        "else:\n",
        "    print(f\"{kisi2} daha büyük ve yasi {kisi2yas}'tir.\")"
      ]
    },
    {
      "cell_type": "markdown",
      "metadata": {
        "id": "zBVv8Tyg_Te9"
      },
      "source": [
        "# Problem 4\n",
        "Pandemi döneminde AVM'lerde ateş ölçümü yapılıyor. AVM'ye giren kişinin ateş ölçümü 37.5 derecenin altında ise girişe izin veriliyor. 37.5 derecenin üstünde ise girişe izin verilmiyor. AVM'ye girişe izin verilip verilmediğini ekrana yazdıran bir program yazın.\n",
        "\n",
        "Program sonunda şöyle bir çıktı elde etmelisiniz:\n",
        "\n",
        "```\n",
        "Ateşiniz 37.5 derece. AVM'ye girebilirsin! Maske takmayı unutma!\n",
        "Ateşiniz 37.6 derece. AVM'ye giremezsin! Hemen evine dön!\n",
        "```"
      ]
    },
    {
      "cell_type": "code",
      "execution_count": 2,
      "metadata": {
        "id": "TSAXs8et_Te9"
      },
      "outputs": [
        {
          "name": "stdout",
          "output_type": "stream",
          "text": [
            "Ateşiniz 38.0 derece. AVM'ye giremezsiniz! Evinize dönün.\n"
          ]
        }
      ],
      "source": [
        "# 4.Problemin Çözümünü Buraya Yazınız\n",
        "kisi=float(input(\"ates ölcümünü giriniz\"))\n",
        "if kisi <= 37.5:\n",
        "    print(f\"Ateşiniz {kisi} derece. AVM'ye girebilirisiniz! Maskenizi takmayi unutmayin\")\n",
        "else:\n",
        "    print(f\"Ateşiniz {kisi} derece. AVM'ye giremezsiniz! Evinize dönün.\")"
      ]
    },
    {
      "cell_type": "markdown",
      "metadata": {
        "id": "6AEkZrDt_Te9"
      },
      "source": [
        "# Problem 5\n",
        "YetGen bir spor kulübüyle sponsorluk anlaşması yapıyor. Kulüp, sponsorluk anlaşmasına göre her YetGen liderinin beden kitle indeksini hesaplamak istiyor. Spor kulübü, beden kitle indeksini hesaplamak için YetGen Jump Python liderlerinden Berkcan ve Ahmet'i arıyor. Berkcan ve Ahmet, kulübe yardımcı olmak için bir Python programı yazıyorlar. Sende bu iki YetGen liderine destek olmak ister misin?\n",
        "\n",
        "Kullanıcıdan alınan boy ve kilo değerlerine göre beden kitle indeksini hesaplayın ve şu kurallara göre ekrana şu yazıları yazdırın.\n",
        "\n",
        "\n",
        "Beden Kitle İndeksi, kişinin ağırlığının (kg olarak) boyunun karesine (m olarak) bölünmesiyle hesaplanır.\n",
        "\n",
        "\n",
        "```\n",
        " BKİ 18.5'un altındaysa -------> Zayıf\n",
        "\n",
        " BKİ 18.5 ile 25 arasındaysa ------> Normal\n",
        "\n",
        " BKİ 25 ile 30 arasındaysa --------> Fazla Kilolu\n",
        "\n",
        " BKİ 30'un üstündeyse -------------> Obez\n",
        "```\n",
        "\n"
      ]
    },
    {
      "cell_type": "code",
      "execution_count": 8,
      "metadata": {
        "id": "t-XPI_u0_Te-"
      },
      "outputs": [
        {
          "name": "stdout",
          "output_type": "stream",
          "text": [
            "Normal\n"
          ]
        }
      ],
      "source": [
        "# 5.Problemin Çözümünü Buraya Yazınız\n",
        "boy=float(input(\"boyunuzu m giriniz\"))\n",
        "kilo=float(input(\"kilonuzu kg olarak giriniz\"))\n",
        "BKI= kilo/(boy**2)\n",
        "if BKI <= 18.5:\n",
        "    print(\"zayifsiniz\")\n",
        "elif BKI >18.5 <=25:\n",
        "    print(\"Normal\")\n",
        "elif BKI >25 <=30:\n",
        "    print(\"fazla kilolu\")\n",
        "elif BKI >30:\n",
        "    print(\"obez\")\n"
      ]
    },
    {
      "cell_type": "markdown",
      "metadata": {
        "id": "oFsvQyaO_Te-"
      },
      "source": [
        "# Problem 6\n",
        "Kullanıcıdan isim, yaş ve eğitim bilgilerini isteyip ehliyet alabilme  durumunu kontrol ediniz. \n",
        "\n",
        "Ehliyet alma koşulu en az 18 yaşında ve eğitim durumu lise ya da üniversite olmalıdır. "
      ]
    },
    {
      "cell_type": "code",
      "execution_count": 7,
      "metadata": {
        "id": "Tu2mcgco_Te-"
      },
      "outputs": [
        {
          "ename": "NameError",
          "evalue": "name 'lise' is not defined",
          "output_type": "error",
          "traceback": [
            "\u001b[1;31m---------------------------------------------------------------------------\u001b[0m",
            "\u001b[1;31mNameError\u001b[0m                                 Traceback (most recent call last)",
            "Cell \u001b[1;32mIn[7], line 5\u001b[0m\n\u001b[0;32m      3\u001b[0m yas\u001b[39m=\u001b[39m\u001b[39mint\u001b[39m(\u001b[39minput\u001b[39m(\u001b[39m\"\u001b[39m\u001b[39myasinizi giriniz\u001b[39m\u001b[39m\"\u001b[39m))\n\u001b[0;32m      4\u001b[0m eğitimDurumu\u001b[39m=\u001b[39m\u001b[39minput\u001b[39m(\u001b[39m\"\u001b[39m\u001b[39meğitim durumunuzu giriniz\u001b[39m\u001b[39m\"\u001b[39m)\n\u001b[1;32m----> 5\u001b[0m eğitimDurumu\u001b[39m=\u001b[39m[lise,üniversite]\n\u001b[0;32m      6\u001b[0m alinacakDüzey\u001b[39m=\u001b[39m (\u001b[39m\"\u001b[39m\u001b[39müniversite\u001b[39m\u001b[39m\"\u001b[39m,\u001b[39m\"\u001b[39m\u001b[39mlise\u001b[39m\u001b[39m\"\u001b[39m)\n",
            "\u001b[1;31mNameError\u001b[0m: name 'lise' is not defined"
          ]
        }
      ],
      "source": [
        "# 6.Problemin Çözümünü Buraya Yazınız\n",
        "isim=input(\"isminizi giriniz\")\n",
        "yas=int(input(\"yasinizi giriniz\"))\n",
        "if eğitimDurumu=input(\"eğitim durumunuzu giriniz\"):\n",
        "    print()\n",
        "\n",
        "\n",
        "\n",
        "\n",
        "\n",
        "\n",
        "\n",
        "\n"
      ]
    },
    {
      "cell_type": "markdown",
      "metadata": {
        "id": "eUkxVSAE_Te_"
      },
      "source": [
        "# Problem 7\n",
        "Bir yılın artık yıl olup olmadığını kontrol etmek için bir program yazın. \n",
        "Artık yıl kuralı:\n",
        "\n",
        "a) Eğer yılın son iki basamağı (00) ile bitmiyor ve yalnızca 4'e tam bölünüyorsa artık yıldır. Ya da, \n",
        "\n",
        "b) Eğer yıl 400'e tam bölünüyorsa artık yıldır.\n",
        "\n",
        "**Örneğin**\n",
        "```\n",
        "2017 artık yıl değildir.\n",
        "1900 artık yıl değildir\n",
        "2012 artık yıldır.\n",
        "2000 artık yıldır.\n",
        "```"
      ]
    },
    {
      "cell_type": "code",
      "execution_count": 1,
      "metadata": {
        "id": "4uWh8qUL_Te_"
      },
      "outputs": [
        {
          "name": "stdout",
          "output_type": "stream",
          "text": [
            "artik yil\n"
          ]
        }
      ],
      "source": [
        "# 7.Problemin Çözümünü Buraya Yazınız\n",
        "yil= int(input(\"bir yil giriniz\"))\n",
        "if yil %4 == 0:\n",
        "    if yil %100 == 0:\n",
        "        if yil %400 ==0 :\n",
        "            print(\"artik yildir\")\n",
        "        else:\n",
        "            print(\"artik yil değildir\")\n",
        "    else:\n",
        "        print(\"artik yil\")\n",
        "else:\n",
        "    print(\"artik yil değil\")\n",
        "    \n"
      ]
    }
  ],
  "metadata": {
    "colab": {
      "provenance": []
    },
    "kernelspec": {
      "display_name": "Python 3.10.5 64-bit",
      "language": "python",
      "name": "python3"
    },
    "language_info": {
      "codemirror_mode": {
        "name": "ipython",
        "version": 3
      },
      "file_extension": ".py",
      "mimetype": "text/x-python",
      "name": "python",
      "nbconvert_exporter": "python",
      "pygments_lexer": "ipython3",
      "version": "3.11.0"
    },
    "orig_nbformat": 4,
    "vscode": {
      "interpreter": {
        "hash": "5026d2d6e7aaaaba093def813beadff083d8733e4a511af01735cbabd156995d"
      }
    }
  },
  "nbformat": 4,
  "nbformat_minor": 0
}
